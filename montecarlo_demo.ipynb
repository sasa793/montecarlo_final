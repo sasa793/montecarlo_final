{
 "cells": [
  {
   "cell_type": "markdown",
   "metadata": {},
   "source": [
    "# Metadata\n",
    "\n",
    "* Title: **Final Project Report**\n",
    "* Class: DS 5100\n",
    "* Date: May 1, 2023\n",
    "* Student Name: Sarah Elmasry\n",
    "* Student Net ID: sme5qyx\n",
    "* This URL: <a URL to the notebook source of this document>\n",
    "* GitHub Repo URL: https://github.com/sasa793/montecarlo_final"
   ]
  },
  {
   "cell_type": "markdown",
   "metadata": {},
   "source": [
    "# The Monte Carlo Module"
   ]
  },
  {
   "cell_type": "code",
   "execution_count": 109,
   "metadata": {},
   "outputs": [],
   "source": [
    "import pandas as pd\n",
    "import numpy as np\n",
    "\n",
    "class Die:\n",
    "    \"\"\"A die has N sides, or “faces”, and W weights, and can be rolled to select a face.W weights defaults to 1  for each face but can be changed after object is created. The die has one behavior, this is to be rolled one or more times. Includes 3 methods: change_weight, roll, and show_die.\"\"\"\n",
    "    \n",
    "    def __init__(self, faces):\n",
    "        \"\"\"Takes an array of faces as an argument and internally initalizes the weights to 1.0 for each face. Both faces and weights are saved into a private dataframe that is to be shared with other methods\"\"\"\n",
    "        self.faces = faces\n",
    "        self.weights = [1.0] * len(self.faces)\n",
    "        self._df = pd.DataFrame({'faces': self.faces, 'weights': self.weights})\n",
    "        \n",
    "    def change_weight(self, face, weight):\n",
    "        \"\"\"This method changes the weight of a single side. Two arguments are taken, the face value to be changed and the new weight. It checks to see if the face passed is a valid array of weights and if the weight is valid/a float or convertible to a float.\"\"\"\n",
    "        if face not in self.faces:\n",
    "            print(\"Error: {face} is not a valid face value.\")\n",
    "            return\n",
    "        try:\n",
    "            float(weight)\n",
    "        except ValueError:\n",
    "            print(\"Error: weight must be a float.\")\n",
    "            return\n",
    "        index = self._df.index[self._df['faces'] == face]\n",
    "        self._df.at[index, 'weights'] = weight\n",
    "\n",
    "    def roll(self, n=1):\n",
    "        \"\"\"This is a random sample from the vector of faces according to the weights that returns a list of outcomes that's not stored internally. It takes a parameter for how many times the die is rolled but efaults to 1.\"\"\"\n",
    "        results = []\n",
    "        norm_weights = np.array(self.weights)/sum(self.weights)\n",
    "        for i in range(n):\n",
    "            result = np.random.choice(self.faces, p=norm_weights)\n",
    "            results.append(result)\n",
    "        return results\n",
    "    \n",
    "    def show_die(self):\n",
    "        \"\"\"This method shows the user the die's current set of faces and weights in a dataframe.\"\"\"\n",
    "        return self._df\n",
    "\n",
    "    \n",
    "class Game:\n",
    "    \"\"\"Where one or more die of the same kind one or more time where the games are initalized with one or more similarly defined dice objects. By “same kind” and “similarly defined” we mean that each die in a given game has the same number of sides and associated faces, but each die object may have its own weights.The most recent play results are kept in the class. Includes 2 methods: play and show (narrow or wide)\"\"\"\n",
    "    \n",
    "    def __init__(self, dice):\n",
    "        \"\"\"Takes a single parameter, a list of already instantiated similar Die objects.\"\"\"\n",
    "        self.dice = dice\n",
    "        self._results = pd.DataFrame()\n",
    "        \n",
    "    def play(self, n_rolls):\n",
    "        \"\"\"Takes a parameter to specify how many times the dice should be rolled, the results are then saved to a private dataframe of shape N rolls by M dice. The roll number is a named index. The results table containing data has a column for roll number, die number (it's list index), and the face rolled in that instance. \"\"\"\n",
    "        for index, die in enumerate(self.dice):\n",
    "            self._results[index+1] = die.roll(n_rolls)\n",
    "\n",
    "    def show_results(self, form = 'wide'):\n",
    "        \"\"\"This method passes the private dataframe to the user where a parameter is taken to return the dataframe in narrow or wide form. Narrow has a two column index with the roll and die number, and a column of face rolled. While the wide dataframe will have a single column index with the roll number and each die number as a column.\"\"\"\n",
    "        if form == 'wide':\n",
    "            return self._results\n",
    "\n",
    "        elif form == 'narrow':\n",
    "            return self._results.melt(var_name='Die', value_name='Value')\n",
    "        \n",
    "        else:\n",
    "            raise ValueError(\"Wrong result type\")\n",
    "           \n",
    "        \n",
    "class Analyzer:\n",
    "    \"\"\"This class takes the results of a single game and computes various descriptive statistical properties about it. These properties results are available as attributes of an Analyzer object. Includes 3 methods: jackpot, combo, and face_counts_per_roll\"\"\"\n",
    "    \n",
    "    def __init__(self, game):\n",
    "        \"\"\"Takes a game object as its input parameter. At initialization time, it also infers the data type of the die faces used.\"\"\"\n",
    "        self.game = game\n",
    "        self.face_type = type(game.dice[0].faces[0])\n",
    "        self.combos_df = pd.DataFrame()\n",
    "        self.counts_df = pd.DataFrame()\n",
    "    \n",
    "    def jackpot(self):\n",
    "        \"\"\"Demonstrates how many times the game resulted in all faces being identical and returns that number to the user as an integer. The dataframe of results, containing roll number as a named index, are stored as a public attribute.\"\"\"\n",
    "        return (self.game.show_results(form='wide').nunique(axis=1) == 1).sum()\n",
    "    \n",
    "    def combo(self):\n",
    "        \"\"\"Computes how many times the distinct combination of faces are rolled along with their counts. These combinations are sorted and saved as a multi-columned index. The results are stored as a dataframe in a public attribute.\"\"\"\n",
    "        sorted_rolls = self.game.show_results(form='wide').apply(lambda row: tuple(sorted(row)), axis=1)\n",
    "        self.combos_df = sorted_rolls.value_counts().reset_index(name='counts').set_index(\"index\")\n",
    "        self.combos_df = self.combos_df.sort_values(by='counts', ascending=False)\n",
    "    \n",
    "    def face_counts_per_roll(self):\n",
    "        \"\"\"Computes how often a given face is rolled in each event. The results are storred as a dataframe in a public attribute. Said dataframe has an index of the roll number and face values as columns(wide form)\"\"\"\n",
    "        faces = sorted({face for die in self.game.dice for face in die.faces})\n",
    "        \n",
    "        self.counts_df = pd.DataFrame(index=self.game.show_results(form='wide').index, columns=faces)\n",
    "        self.counts_df = self.counts_df.fillna(0)\n",
    "        \n",
    "        for i, row in self.game.show_results(form='wide').iterrows():\n",
    "            row_counts = row.value_counts()\n",
    "            self.counts_df.loc[i, row_counts.index] = row_counts.values"
   ]
  },
  {
   "cell_type": "markdown",
   "metadata": {},
   "source": [
    "# Test Module"
   ]
  },
  {
   "cell_type": "code",
   "execution_count": null,
   "metadata": {},
   "outputs": [],
   "source": [
    "import numpy as np\n",
    "import pandas as pd\n",
    "import unittest\n",
    "from montecarlo import Die, Game, Analyzer\n",
    "\n",
    "class MonteCarloTestSuite(unittest.TestCase):\n",
    "    \n",
    "    \n",
    "    def test_die_created(self):\n",
    "        \"\"\"Tests to determine that all the present die faces has a weight of 1.0\"\"\"\n",
    "        my_die = Die([1, 2, 3, 4])\n",
    "        expected = [1.0, 1.0, 1.0, 1.0]\n",
    "        actual= list(my_die._df.weights)\n",
    "        self.assertEqual(expected, actual)\n",
    "        \n",
    "    \n",
    "    def test_change_weight(self):\n",
    "        \"\"\"Tests to see if the weight was correctly changed for the specified die face\"\"\"\n",
    "        my_die = Die([1, 2, 3, 4, 5, 6])\n",
    "        my_die.change_weight(5, 7.5)\n",
    "        expected = 7.5\n",
    "        actual = my_die.show_die().iloc[4]['weights']\n",
    "        self.assertEqual(expected,actual)\n",
    "      \n",
    "        \n",
    "    def test_roll(self):\n",
    "        \"\"\"Tests to see if the roll method works and outputs the correct value\"\"\"\n",
    "        my_die = Die([1, 2, 3, 4, 5, 6])\n",
    "        dtest = my_die.roll(2)\n",
    "        self.assertEqual(len(dtest),2)\n",
    "       \n",
    "        \n",
    "    def test_show_die(self):\n",
    "        \"\"\"Tests to see if df created has the right dimensions\"\"\"\n",
    "        my_die = Die([1, 2, 3, 4, 5, 6])\n",
    "        test_value = my_die.show_die().shape == (6, 2)    \n",
    "        message = \"Error: Incorrect dimensions of die df.\"    \n",
    "        self.assertTrue(test_value, message)\n",
    "\n",
    "        \n",
    "    def test_play_game(self):\n",
    "        \"\"\"Tests the play method to assess whether the corrrect number of columns and rows are made\"\"\"\n",
    "        my_dice1= Die([1, 2, 3, 4, 5, 6])\n",
    "        my_dice2= Die([7, 8, 9, 10, 11, 12])\n",
    "        my_game = Game([my_dice1, my_dice2])   \n",
    "        my_game.play(5)\n",
    "        vtest = my_game._results.shape == (5, 2)\n",
    "        message = \"Error: Incorrect data frame dimensions.\"\n",
    "        self.assertTrue(vtest, message)        \n",
    "        \n",
    "    \n",
    "    def test_show_results(self):\n",
    "        \"\"\"Tests to see if the show_results method defaults correctly (to the wide format)\"\"\"\n",
    "        my_dice1= Die([1, 2, 3, 4, 5, 6])\n",
    "        my_dice2= Die([7, 8, 9, 10, 11, 12])\n",
    "        my_game = Game([my_dice1, my_dice2])\n",
    "        my_game.play(5)\n",
    "        expected = (5,2)\n",
    "        actual = my_game.show_results().shape\n",
    "        self.assertEqual(expected, actual)\n",
    "        \n",
    "        \n",
    "    def test_jackpot(self):\n",
    "        \"\"\"Tests to see if the jackpots that the analyzer finds matches the jackpots count/jackpots actual hit. I created this forcing it to hit a certain amount\"\"\"\n",
    "        my_dice1= Die([2, 2])\n",
    "        my_dice2= Die([2, 2])\n",
    "        my_game = Game([my_dice1, my_dice2])\n",
    "        my_game.play(5)\n",
    "        my_analyzer = Analyzer(my_game)\n",
    "        tjackpot= my_analyzer.jackpot()\n",
    "        self.assertTrue((tjackpot) == 5)\n",
    "        \n",
    "        \n",
    "    def test_combo(self):\n",
    "        \"\"\"Tests the combo method of the analyzer class\"\"\"\n",
    "        my_dice1= Die([1, 2, 3, 4])\n",
    "        my_dice2= Die([1, 2, 3, 4])\n",
    "        my_dice_list = [my_dice1, my_dice2]\n",
    "        my_game = Game(my_dice_list)\n",
    "        my_game.play(5)\n",
    "        my_analyzer = Analyzer(my_game)\n",
    "        my_analyzer.combo()\n",
    "        tdf = my_analyzer.combos_df.size\n",
    "        self.assertGreater(tdf, 0)\n",
    "        \n",
    "        \n",
    "    def test_face_counts_per_roll(self):\n",
    "        \"\"\"Tests to see if the face counts df matches the correct shape for num of rolls and dice\"\"\"\n",
    "        my_dice1= Die([1, 2, 3, 4])\n",
    "        my_dice2= Die([1, 2, 3, 4])\n",
    "        my_game = Game([my_dice1, my_dice2])\n",
    "        my_game.play(5)\n",
    "        my_analyzer = Analyzer(my_game)\n",
    "        my_analyzer.face_counts_per_roll()    \n",
    "        expected = (5, 4)\n",
    "        actual = my_analyzer.counts_df.shape\n",
    "        self.assertEqual(expected, actual)\n",
    "        \n",
    "    \n",
    "if __name__ == \"__main__\":\n",
    "    \n",
    "    unittest.main(argv=['first-arg-is-ignored'], exit=False, verbosity=3)"
   ]
  },
  {
   "cell_type": "markdown",
   "metadata": {},
   "source": [
    "# Test Results"
   ]
  },
  {
   "cell_type": "code",
   "execution_count": 70,
   "metadata": {},
   "outputs": [
    {
     "name": "stdout",
     "output_type": "stream",
     "text": [
      "test_change_weight (__main__.MonteCarloTestSuite)\n",
      "Tests to see if the weight was correctly changed for the specified die face ... ok\n",
      "test_combo (__main__.MonteCarloTestSuite)\n",
      "Tests the combo method of the analyzer class ... ok\n",
      "test_die_created (__main__.MonteCarloTestSuite)\n",
      "Tests to determine that all the present die faces has a weight of 1.0 ... ok\n",
      "test_face_counts_per_roll (__main__.MonteCarloTestSuite)\n",
      "Tests to see if the face counts df matches the correct shape for num of rolls and dice ... ok\n",
      "test_jackpot (__main__.MonteCarloTestSuite)\n",
      "Tests to see if the jackpots that the analyzer finds matches the jackpots count/jackpots actual hit. I created this forcing it to hit a certain amount ... ok\n",
      "test_play_game (__main__.MonteCarloTestSuite)\n",
      "Tests the play method to assess whether the corrrect number of columns and rows are made ... ok\n",
      "test_roll (__main__.MonteCarloTestSuite)\n",
      "Tests to see if the roll method works and outputs the correct value ... ok\n",
      "test_show_die (__main__.MonteCarloTestSuite)\n",
      "Tests to see if df created has the right dimensions ... ok\n",
      "test_show_results (__main__.MonteCarloTestSuite)\n",
      "Tests to see if the show_results method defaults correctly (to the wide format) ... ok\n",
      "\n",
      "----------------------------------------------------------------------\n",
      "Ran 9 tests in 0.035s\n",
      "\n",
      "OK\n"
     ]
    }
   ],
   "source": [
    "!python montecarlo_test.py"
   ]
  },
  {
   "cell_type": "markdown",
   "metadata": {},
   "source": [
    "# Scenarios\n",
    "\n",
    "Code blocks with your scenarios and their outputs. \n",
    "\n",
    "These should have appropriate import statements even though the code is now in the same notebook as the classes it calls. "
   ]
  },
  {
   "cell_type": "code",
   "execution_count": 71,
   "metadata": {},
   "outputs": [],
   "source": [
    "import pandas as pd\n",
    "import numpy as np\n",
    "from matplotlib import pyplot as plt\n",
    "from montecarlo import Die, Game, Analyzer"
   ]
  },
  {
   "cell_type": "markdown",
   "metadata": {},
   "source": [
    "## Scenario 1"
   ]
  },
  {
   "cell_type": "markdown",
   "metadata": {},
   "source": [
    "**Create a fair coin (with faces H and T) and an unfair coin, in which one of the faces has a weight of 5 and the others 1.**"
   ]
  },
  {
   "cell_type": "code",
   "execution_count": 95,
   "metadata": {},
   "outputs": [],
   "source": [
    "fair_coin = Die(['H', 'T'])\n",
    "unfair_coin = Die(['H', 'T'])\n",
    "unfair_coin.change_weight('T', 5)"
   ]
  },
  {
   "cell_type": "markdown",
   "metadata": {},
   "source": [
    "**Play a game of 1000 flips with all fair dice.**"
   ]
  },
  {
   "cell_type": "code",
   "execution_count": 100,
   "metadata": {},
   "outputs": [],
   "source": [
    "game_fair = Game([fair_coin, fair_coin, fair_coin])\n",
    "game_fair.play(1000)"
   ]
  },
  {
   "cell_type": "markdown",
   "metadata": {},
   "source": [
    "**Play a game of 1000 flips with 2 unfair fie and 1 fair.**"
   ]
  },
  {
   "cell_type": "code",
   "execution_count": 101,
   "metadata": {},
   "outputs": [],
   "source": [
    "game_unfair = Game([fair_coin, unfair_coin, unfair_coin])\n",
    "game_unfair.play(1000)"
   ]
  },
  {
   "cell_type": "markdown",
   "metadata": {},
   "source": [
    "**For each game, use an Analyzer object to determine the relative frequency of jackpots – getting either all Hs or all Ts. Compute relative frequency as the number of jackpots over the total number of rolls.**"
   ]
  },
  {
   "cell_type": "code",
   "execution_count": 102,
   "metadata": {},
   "outputs": [],
   "source": [
    "fair_analyzer = Analyzer(game_fair)\n",
    "unfair_analyzer = Analyzer(game_unfair)                  \n",
    "                  \n",
    "fair_jack_freq = fair_analyzer.jackpot()/1000\n",
    "unfair_jack_freq = unfair_analyzer.jackpot()/1000"
   ]
  },
  {
   "cell_type": "markdown",
   "metadata": {},
   "source": [
    "**Show your results, comparing the two relative frequencies, in a simple bar chart.**"
   ]
  },
  {
   "cell_type": "code",
   "execution_count": 103,
   "metadata": {},
   "outputs": [
    {
     "data": {
      "image/png": "[encoded data removed]",
      "text/plain": [
       "<Figure size 432x288 with 1 Axes>"
      ]
     },
     "metadata": {
      "needs_background": "light"
     },
     "output_type": "display_data"
    }
   ],
   "source": [
    "plt.bar(['Fair Game', 'Unfair Game'], [fair_jack_freq, unfair_jack_freq])\n",
    "plt.ylabel('Relative Frequency')\n",
    "plt.title('Frequency of Jackpots')\n",
    "plt.show()"
   ]
  },
  {
   "cell_type": "markdown",
   "metadata": {},
   "source": [
    "## Scenario 2"
   ]
  },
  {
   "cell_type": "markdown",
   "metadata": {},
   "source": [
    "**Create a fair die and two unfair dice, all of six sides with the faces 1 through 6. One unfair die (Type 1) will weight 6 five times more than the others (i.e. it has weight of 5 and the others a weight of 1 each). The other unfair die (Type 2) will weight 1 five times more than the others.**"
   ]
  },
  {
   "cell_type": "code",
   "execution_count": 82,
   "metadata": {},
   "outputs": [],
   "source": [
    "fair_die = Die([1,2,3,4,5,6])\n",
    "unfair_die1 = Die([1,2,3,4,5,6])\n",
    "unfair_die2 = Die([1,2,3,4,5,6])\n",
    "unfair_die1.change_weight(6,5)\n",
    "unfair_die2.change_weight(1,5)"
   ]
  },
  {
   "cell_type": "markdown",
   "metadata": {},
   "source": [
    "**Play a game of 10000 rolls with 5 fair dice.**"
   ]
  },
  {
   "cell_type": "code",
   "execution_count": 83,
   "metadata": {},
   "outputs": [],
   "source": [
    "die_game_fair = Game([fair_die, fair_die, fair_die, fair_die, fair_die])\n",
    "die_game_fair.play(10000)"
   ]
  },
  {
   "cell_type": "markdown",
   "metadata": {},
   "source": [
    "**Play a game of 10000 rolls with 2 unfair dice of type 1, 1 unfair die of type 2, and the rest fair dice.**"
   ]
  },
  {
   "cell_type": "code",
   "execution_count": 84,
   "metadata": {},
   "outputs": [],
   "source": [
    "die_game_unfair = Game([unfair_die1, unfair_die1, unfair_die2, fair_die, fair_die])\n",
    "die_game_unfair.play(10000)"
   ]
  },
  {
   "cell_type": "markdown",
   "metadata": {},
   "source": [
    "**For each game, use an Analyzer object to determine the relative frequency of jackpots and show your results, comparing the two relative frequencies, in a simple bar chart.**"
   ]
  },
  {
   "cell_type": "code",
   "execution_count": 85,
   "metadata": {},
   "outputs": [
    {
     "name": "stdout",
     "output_type": "stream",
     "text": [
      "Fair Jackpot 10\n",
      "Unfair Jackpot 11\n"
     ]
    },
    {
     "data": {
      "image/png": "[encoded data removed]",
      "text/plain": [
       "<Figure size 432x288 with 1 Axes>"
      ]
     },
     "metadata": {
      "needs_background": "light"
     },
     "output_type": "display_data"
    }
   ],
   "source": [
    "die_fair_analyzer = Analyzer(die_game_fair)\n",
    "die_unfair_analyzer = Analyzer(die_game_unfair)   \n",
    "\n",
    "print(\"Fair Jackpot\", die_fair_analyzer.jackpot())\n",
    "print(\"Unfair Jackpot\", die_unfair_analyzer.jackpot())\n",
    "                  \n",
    "die_fair_jack_freq = die_fair_analyzer.jackpot()/10000\n",
    "die_unfair_jack_freq = die_unfair_analyzer.jackpot()/10000\n",
    "\n",
    "plt.bar(['Fair Game', 'Unfair Game'], [die_fair_jack_freq, die_unfair_jack_freq])\n",
    "plt.ylabel('Relative Frequency')\n",
    "plt.title('Frequency of Jackpots by Game Type')\n",
    "plt.show()"
   ]
  },
  {
   "cell_type": "markdown",
   "metadata": {},
   "source": [
    "**Also compute 10 most frequent combinations of faces for each game. Plot each of these as bar charts.**"
   ]
  },
  {
   "cell_type": "code",
   "execution_count": 87,
   "metadata": {},
   "outputs": [
    {
     "data": {
      "text/plain": [
       "<AxesSubplot:title={'center':'Unfair Game'}, xlabel='Combinations', ylabel='Counts'>"
      ]
     },
     "execution_count": 87,
     "metadata": {},
     "output_type": "execute_result"
    },
    {
     "data": {
      "image/png": "[encoded data removed]",
      "text/plain": [
       "<Figure size 432x288 with 1 Axes>"
      ]
     },
     "metadata": {
      "needs_background": "light"
     },
     "output_type": "display_data"
    },
    {
     "data": {
      "image/png": "[encoded data removed]",
      "text/plain": [
       "<Figure size 432x288 with 1 Axes>"
      ]
     },
     "metadata": {
      "needs_background": "light"
     },
     "output_type": "display_data"
    }
   ],
   "source": [
    "die_fair_analyzer.combo()\n",
    "die_unfair_analyzer.combo()\n",
    "\n",
    "Fair_die_combos = die_fair_analyzer.combos_df.head(10)\n",
    "Fair_die_combos.plot.bar(title=\"Fair Game\", xlabel='Combinations', ylabel='Counts')\n",
    "\n",
    "Unfair_die_combos = die_unfair_analyzer.combos_df.head(10)\n",
    "Unfair_die_combos.plot.bar(title=\"Unfair Game\", xlabel='Combinations', ylabel='Counts')"
   ]
  },
  {
   "cell_type": "markdown",
   "metadata": {},
   "source": [
    "## Scenario 3"
   ]
  },
  {
   "cell_type": "markdown",
   "metadata": {},
   "source": [
    "**Create a \"die\" of letters from a to z with weights based on their frequency of usage.**"
   ]
  },
  {
   "cell_type": "code",
   "execution_count": 88,
   "metadata": {},
   "outputs": [],
   "source": [
    "die_letters_ultimate = Die(['A', 'B', 'C', 'D', 'E', 'F', 'G', 'H', 'I', 'J', 'K', 'L', 'M', 'N', 'O', 'P', 'Q', 'R', 'S', 'T', 'U', 'V', 'W', 'X', 'Y', 'Z'])\n",
    "die_letters_ultimate.weights = [8.4966, 2.0720, 4.5388, 3.3844, 11.1607, 1.8121, 2.4705, 3.0034, 7.5448, 0.1965, 1.1016, 5.4893, 3.0129, 6.6544, 7.1635, 3.1671, 0.1962, 7.5809, 5.7351, 6.9509, 3.6308, 1.0074, 1.2899, 0.2902, 1.7779, 0.2722]\n",
    "die_letters_ultimate._df = pd.DataFrame({'faces': die_letters_ultimate.faces, 'weights': die_letters_ultimate.weights})"
   ]
  },
  {
   "cell_type": "markdown",
   "metadata": {},
   "source": [
    "**Play a game involving 5 of these dice with 1000 rolls.**"
   ]
  },
  {
   "cell_type": "code",
   "execution_count": 89,
   "metadata": {},
   "outputs": [],
   "source": [
    "die_letters = Game([die_letters_ultimate]*5)\n",
    "die_letters.play(1000)"
   ]
  },
  {
   "cell_type": "markdown",
   "metadata": {},
   "source": [
    "**How many combos can you find that are actual English words? NOTE: \"combo\" here just means resulting sequence, not literally combination as opposed to permutation.**"
   ]
  },
  {
   "cell_type": "code",
   "execution_count": 90,
   "metadata": {},
   "outputs": [
    {
     "name": "stdout",
     "output_type": "stream",
     "text": [
      "    1  2  3  4  5\n",
      "0   E  C  E  L  N\n",
      "1   R  M  E  C  U\n",
      "2   O  A  B  E  T\n",
      "3   I  N  C  T  O\n",
      "4   L  O  O  H  R\n",
      "5   N  O  B  E  C\n",
      "6   R  A  R  H  T\n",
      "7   C  U  E  E  A\n",
      "8   E  F  A  W  N\n",
      "9   H  Y  E  A  O\n",
      "10  U  S  L  R  O\n",
      "11  E  M  N  N  N\n",
      "12  C  O  N  C  E\n",
      "13  R  S  C  I  V\n",
      "14  E  L  L  I  A\n",
      "15  E  P  S  E  E\n",
      "16  L  D  H  I  O\n",
      "17  M  L  E  S  C\n",
      "18  A  K  P  Q  I\n",
      "19  N  I  K  I  E\n",
      "20  O  N  B  R  R\n",
      "21  D  E  A  R  R\n",
      "22  O  Q  A  O  H\n",
      "23  E  T  B  A  N\n",
      "24  L  E  A  E  Y\n",
      "25  S  E  O  T  E\n",
      "26  R  D  E  B  C\n",
      "27  R  C  N  F  B\n",
      "28  R  B  E  I  R\n",
      "29  R  N  O  F  C\n",
      "30  Y  E  T  A  R\n",
      "31  T  E  G  E  D\n",
      "32  I  U  W  D  H\n",
      "33  R  G  E  I  R\n",
      "34  S  V  D  S  A\n",
      "35  S  P  I  B  M\n",
      "36  P  E  Z  I  A\n",
      "37  E  R  M  C  N\n",
      "38  C  L  S  A  D\n",
      "39  N  P  N  L  R\n",
      "40  M  P  L  N  A\n",
      "41  I  I  P  U  R\n",
      "42  A  A  D  T  N\n",
      "43  N  H  A  P  A\n",
      "44  I  L  W  S  P\n",
      "45  T  O  R  H  E\n",
      "46  S  A  H  P  G\n",
      "47  N  N  E  R  O\n",
      "48  P  H  S  F  P\n",
      "49  T  E  Y  S  U\n"
     ]
    }
   ],
   "source": [
    "print(die_letters.show_results().head(50))"
   ]
  },
  {
   "cell_type": "markdown",
   "metadata": {},
   "source": [
    "*After running this multiple times, I was not able to find any \"combinations\" that were actual english words. Therefore I did a bigger scope and looked at 50 assortments, none of which looked like english words.*"
   ]
  },
  {
   "cell_type": "markdown",
   "metadata": {},
   "source": [
    "**Based on your eye count, what is the relative frequency of these words versus the rest?**"
   ]
  },
  {
   "cell_type": "markdown",
   "metadata": {},
   "source": [
    "*Based on my eye count and what was stated above, for at least the first 50 rows, the relative frequency is zero.*"
   ]
  },
  {
   "cell_type": "markdown",
   "metadata": {},
   "source": [
    "# Directory Listing\n",
    "\n",
    "A code block that executes the following bash command: \n",
    "\n",
    "```bash\n",
    "!ls -lRF -o\n",
    "```"
   ]
  },
  {
   "cell_type": "code",
   "execution_count": 111,
   "metadata": {},
   "outputs": [
    {
     "name": "stdout",
     "output_type": "stream",
     "text": [
      ".:\n",
      "total 112\n",
      "-rw-r--r-- 1 sme5qyx  7048 May  1 19:25 LICENSE\n",
      "drwxr-sr-x 4 sme5qyx  3072 May  2 17:10 montecarlo/\n",
      "-rw-r--r-- 1 sme5qyx 76300 May  2 17:26 montecarlo_demo.ipynb\n",
      "drwxr-sr-x 2 sme5qyx  2560 May  2 16:22 montecarlo.egg-info/\n",
      "-rw-r--r-- 1 sme5qyx  1300 May  2 16:38 montecarlo_test_results.txt\n",
      "-rw-r--r-- 1 sme5qyx   648 May  2 17:20 README.md\n",
      "-rw-r--r-- 1 sme5qyx   482 May  2 17:10 setup.py\n",
      "\n",
      "./montecarlo:\n",
      "total 32\n",
      "-rw-r--r-- 1 sme5qyx   43 May  2 16:09 __init__.py\n",
      "-rw-r--r-- 1 sme5qyx  272 May  2 16:35 __init__.pyc\n",
      "-rw-r--r-- 1 sme5qyx 6013 May  2 16:09 montecarlo.py\n",
      "-rw-r--r-- 1 sme5qyx 3798 May  2 17:10 montecarlo_test.py\n",
      "drwxr-sr-x 2 sme5qyx 1024 May  2 16:32 __pycache__/\n",
      "\n",
      "./montecarlo/__pycache__:\n",
      "total 16\n",
      "-rw-r--r-- 1 sme5qyx  250 May  2 16:32 __init__.cpython-38.pyc\n",
      "-rw-r--r-- 1 sme5qyx 7032 May  2 16:32 montecarlo.cpython-38.pyc\n",
      "\n",
      "./montecarlo.egg-info:\n",
      "total 20\n",
      "-rw-r--r-- 1 sme5qyx   1 May  2 16:22 dependency_links.txt\n",
      "-rw-r--r-- 1 sme5qyx 339 May  2 16:22 PKG-INFO\n",
      "-rw-r--r-- 1 sme5qyx  39 May  2 16:22 requires.txt\n",
      "-rw-r--r-- 1 sme5qyx 277 May  2 16:22 SOURCES.txt\n",
      "-rw-r--r-- 1 sme5qyx  15 May  2 16:22 top_level.txt\n"
     ]
    }
   ],
   "source": [
    "!ls -lRF -o"
   ]
  },
  {
   "cell_type": "markdown",
   "metadata": {
    "tags": []
   },
   "source": [
    "# Installation Output Listing\n",
    "    \n",
    "A code block that executes the code to install your your package and outputs a successful installation."
   ]
  },
  {
   "cell_type": "code",
   "execution_count": 112,
   "metadata": {},
   "outputs": [
    {
     "name": "stdout",
     "output_type": "stream",
     "text": [
      "Defaulting to user installation because normal site-packages is not writeable\n",
      "Obtaining file:///sfs/qumulo/qhome/sme5qyx/Documents/MSDS/DS5100/montecarlo_final\n",
      "Requirement already satisfied: numpy>=1.11.1 in /sfs/applications/202212/software/standard/compiler/gcc/9.2.0/jupyter_conda/2020.11-py3.8/lib/python3.8/site-packages (from montecarlo==1.0.0) (1.19.2)\n",
      "Requirement already satisfied: matplotlib>=1.5.1 in /sfs/applications/202212/software/standard/compiler/gcc/9.2.0/jupyter_conda/2020.11-py3.8/lib/python3.8/site-packages (from montecarlo==1.0.0) (3.3.2)\n",
      "Requirement already satisfied: pandas in /sfs/applications/202212/software/standard/compiler/gcc/9.2.0/jupyter_conda/2020.11-py3.8/lib/python3.8/site-packages (from montecarlo==1.0.0) (1.1.3)\n",
      "Requirement already satisfied: cycler>=0.10 in /sfs/applications/202212/software/standard/compiler/gcc/9.2.0/jupyter_conda/2020.11-py3.8/lib/python3.8/site-packages (from matplotlib>=1.5.1->montecarlo==1.0.0) (0.10.0)\n",
      "Requirement already satisfied: certifi>=2020.06.20 in /sfs/applications/202212/software/standard/compiler/gcc/9.2.0/jupyter_conda/2020.11-py3.8/lib/python3.8/site-packages (from matplotlib>=1.5.1->montecarlo==1.0.0) (2021.10.8)\n",
      "Requirement already satisfied: kiwisolver>=1.0.1 in /sfs/applications/202212/software/standard/compiler/gcc/9.2.0/jupyter_conda/2020.11-py3.8/lib/python3.8/site-packages (from matplotlib>=1.5.1->montecarlo==1.0.0) (1.3.0)\n",
      "Requirement already satisfied: pyparsing!=2.0.4,!=2.1.2,!=2.1.6,>=2.0.3 in /sfs/applications/202212/software/standard/compiler/gcc/9.2.0/jupyter_conda/2020.11-py3.8/lib/python3.8/site-packages (from matplotlib>=1.5.1->montecarlo==1.0.0) (2.4.7)\n",
      "Requirement already satisfied: python-dateutil>=2.1 in /sfs/applications/202212/software/standard/compiler/gcc/9.2.0/jupyter_conda/2020.11-py3.8/lib/python3.8/site-packages (from matplotlib>=1.5.1->montecarlo==1.0.0) (2.8.1)\n",
      "Requirement already satisfied: pillow>=6.2.0 in /sfs/applications/202212/software/standard/compiler/gcc/9.2.0/jupyter_conda/2020.11-py3.8/lib/python3.8/site-packages (from matplotlib>=1.5.1->montecarlo==1.0.0) (8.0.1)\n",
      "Requirement already satisfied: pytz>=2017.2 in /sfs/applications/202212/software/standard/compiler/gcc/9.2.0/jupyter_conda/2020.11-py3.8/lib/python3.8/site-packages (from pandas->montecarlo==1.0.0) (2020.1)\n",
      "Requirement already satisfied: six in /sfs/applications/202212/software/standard/compiler/gcc/9.2.0/jupyter_conda/2020.11-py3.8/lib/python3.8/site-packages (from cycler>=0.10->matplotlib>=1.5.1->montecarlo==1.0.0) (1.15.0)\n",
      "Installing collected packages: montecarlo\n",
      "  Attempting uninstall: montecarlo\n",
      "    Found existing installation: montecarlo 1.0.0\n",
      "    Uninstalling montecarlo-1.0.0:\n",
      "      Successfully uninstalled montecarlo-1.0.0\n",
      "  Running setup.py develop for montecarlo\n",
      "Successfully installed montecarlo\n"
     ]
    }
   ],
   "source": [
    "!pip install -e ."
   ]
  },
  {
   "cell_type": "code",
   "execution_count": null,
   "metadata": {},
   "outputs": [],
   "source": []
  }
 ],
 "metadata": {
  "kernelspec": {
   "display_name": "Python 3",
   "language": "python",
   "name": "python3"
  },
  "language_info": {
   "codemirror_mode": {
    "name": "ipython",
    "version": 3
   },
   "file_extension": ".py",
   "mimetype": "text/x-python",
   "name": "python",
   "nbconvert_exporter": "python",
   "pygments_lexer": "ipython3",
   "version": "3.8.8"
  },
  "widgets": {
   "application/vnd.jupyter.widget-state+json": {
    "state": {},
    "version_major": 2,
    "version_minor": 0
   }
  }
 },
 "nbformat": 4,
 "nbformat_minor": 5
}
